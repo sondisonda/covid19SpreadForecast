{
  "nbformat": 4,
  "nbformat_minor": 0,
  "metadata": {
    "colab": {
      "name": "covid19SpreadForecast.ipynb",
      "provenance": [],
      "collapsed_sections": [],
      "authorship_tag": "ABX9TyOToa0K5OFNMez28cQKJOQ5",
      "include_colab_link": true
    },
    "kernelspec": {
      "name": "python3",
      "display_name": "Python 3"
    }
  },
  "cells": [
    {
      "cell_type": "markdown",
      "metadata": {
        "id": "view-in-github",
        "colab_type": "text"
      },
      "source": [
        "<a href=\"https://colab.research.google.com/github/sondisonda/covid19SpreadForecast/blob/master/covid19SpreadForecast.ipynb\" target=\"_parent\"><img src=\"https://colab.research.google.com/assets/colab-badge.svg\" alt=\"Open In Colab\"/></a>"
      ]
    },
    {
      "cell_type": "code",
      "metadata": {
        "id": "b9lffF25mrsr",
        "colab_type": "code",
        "colab": {}
      },
      "source": [
        "#Importing data from github\n",
        "\n",
        "import pandas as pd\n",
        "path='https://raw.githubusercontent.com/sondisonda/covid19SpreadForecast/master/enriched_covid_19_week_2.csv'\n",
        "\n",
        "df = pd.read_csv(path)\n"
      ],
      "execution_count": 32,
      "outputs": []
    },
    {
      "cell_type": "code",
      "metadata": {
        "id": "76JKgLqXpuJQ",
        "colab_type": "code",
        "colab": {}
      },
      "source": [
        "#Removing unnecessary collumns\n",
        "\n",
        "df.drop(['Id'], 1, inplace=True)\n",
        "df.drop(['Province_State'], 1, inplace=True)\n",
        "df.drop(['Date'], 1, inplace=True)\n"
      ],
      "execution_count": 33,
      "outputs": []
    },
    {
      "cell_type": "code",
      "metadata": {
        "id": "Nt5t_OLNp_e2",
        "colab_type": "code",
        "colab": {
          "base_uri": "https://localhost:8080/",
          "height": 102
        },
        "outputId": "eec44142-cebb-48c4-81f8-07e0a43e6373"
      },
      "source": [
        "#Spliting data in a training set and test set\n",
        "\n",
        "lines_count = df.shape[0]\n",
        "lines_per_country = 64\n",
        "\n",
        "country_count = int(lines_count / lines_per_country)\n",
        "train_country_count = int(country_count * (2/3))\n",
        "test_country_count = int(country_count * (1/3))\n",
        "\n",
        "train_rows_count = int(lines_count * (2/3))\n",
        "test_rows_count = int(lines_count * (1/3))\n",
        "\n",
        "print('Country count: ' + str(country_count))\n",
        "print('Train rows count: ' + str(train_rows_count))\n",
        "print('Test rows count: ' + str(test_rows_count))\n",
        "print('Train country count: ' + str(train_country_count))\n",
        "print('Test country count: ' + str(test_country_count))"
      ],
      "execution_count": 34,
      "outputs": [
        {
          "output_type": "stream",
          "text": [
            "Country count: 294\n",
            "Train rows count: 12544\n",
            "Test rows count: 6272\n",
            "Train country count: 196\n",
            "Test country count: 98\n"
          ],
          "name": "stdout"
        }
      ]
    },
    {
      "cell_type": "code",
      "metadata": {
        "id": "JZMwuvXbqC2e",
        "colab_type": "code",
        "colab": {
          "base_uri": "https://localhost:8080/",
          "height": 34
        },
        "outputId": "402d2205-30a9-4259-d186-05281413cabb"
      },
      "source": [
        "#Data simplification\n",
        "\n",
        "simplified_df = df[['ConfirmedCases','total_pop']]\n",
        "\n",
        "simplified_df.shape\n"
      ],
      "execution_count": 35,
      "outputs": [
        {
          "output_type": "execute_result",
          "data": {
            "text/plain": [
              "(18816, 2)"
            ]
          },
          "metadata": {
            "tags": []
          },
          "execution_count": 35
        }
      ]
    },
    {
      "cell_type": "code",
      "metadata": {
        "id": "jnL2IREBqFtm",
        "colab_type": "code",
        "colab": {
          "base_uri": "https://localhost:8080/",
          "height": 484
        },
        "outputId": "c6763be4-cc5c-4ff1-cf32-74a10163da3a"
      },
      "source": [
        "#Data normalization\n",
        "\n",
        "from sklearn.preprocessing import MinMaxScaler\n",
        "from numpy import array\n",
        "\n",
        "\n",
        "scaler = MinMaxScaler()\n",
        "\n",
        "reshaped = array(simplified_df.ConfirmedCases.values).reshape(-1, 1)\n",
        "scaler.fit(reshaped)\n",
        "normalized = scaler.transform(reshaped)\n",
        "simplified_df['ConfirmedCases'] = normalized\n",
        "\n",
        "\n",
        "reshaped = array(simplified_df.total_pop.values).reshape(-1, 1)\n",
        "scaler.fit(reshaped)\n",
        "normalized = scaler.transform(reshaped)\n",
        "simplified_df['total_pop'] = normalized\n",
        "\n",
        "simplified_df.describe()"
      ],
      "execution_count": 36,
      "outputs": [
        {
          "output_type": "stream",
          "text": [
            "/usr/local/lib/python3.6/dist-packages/ipykernel_launcher.py:12: SettingWithCopyWarning: \n",
            "A value is trying to be set on a copy of a slice from a DataFrame.\n",
            "Try using .loc[row_indexer,col_indexer] = value instead\n",
            "\n",
            "See the caveats in the documentation: https://pandas.pydata.org/pandas-docs/stable/user_guide/indexing.html#returning-a-view-versus-a-copy\n",
            "  if sys.path[0] == '':\n",
            "/usr/local/lib/python3.6/dist-packages/ipykernel_launcher.py:18: SettingWithCopyWarning: \n",
            "A value is trying to be set on a copy of a slice from a DataFrame.\n",
            "Try using .loc[row_indexer,col_indexer] = value instead\n",
            "\n",
            "See the caveats in the documentation: https://pandas.pydata.org/pandas-docs/stable/user_guide/indexing.html#returning-a-view-versus-a-copy\n"
          ],
          "name": "stderr"
        },
        {
          "output_type": "execute_result",
          "data": {
            "text/html": [
              "<div>\n",
              "<style scoped>\n",
              "    .dataframe tbody tr th:only-of-type {\n",
              "        vertical-align: middle;\n",
              "    }\n",
              "\n",
              "    .dataframe tbody tr th {\n",
              "        vertical-align: top;\n",
              "    }\n",
              "\n",
              "    .dataframe thead th {\n",
              "        text-align: right;\n",
              "    }\n",
              "</style>\n",
              "<table border=\"1\" class=\"dataframe\">\n",
              "  <thead>\n",
              "    <tr style=\"text-align: right;\">\n",
              "      <th></th>\n",
              "      <th>ConfirmedCases</th>\n",
              "      <th>total_pop</th>\n",
              "    </tr>\n",
              "  </thead>\n",
              "  <tbody>\n",
              "    <tr>\n",
              "      <th>count</th>\n",
              "      <td>18816.000000</td>\n",
              "      <td>18816.000000</td>\n",
              "    </tr>\n",
              "    <tr>\n",
              "      <th>mean</th>\n",
              "      <td>0.004613</td>\n",
              "      <td>0.172518</td>\n",
              "    </tr>\n",
              "    <tr>\n",
              "      <th>std</th>\n",
              "      <td>0.048129</td>\n",
              "      <td>0.310446</td>\n",
              "    </tr>\n",
              "    <tr>\n",
              "      <th>min</th>\n",
              "      <td>0.000000</td>\n",
              "      <td>0.000000</td>\n",
              "    </tr>\n",
              "    <tr>\n",
              "      <th>25%</th>\n",
              "      <td>0.000000</td>\n",
              "      <td>0.006149</td>\n",
              "    </tr>\n",
              "    <tr>\n",
              "      <th>50%</th>\n",
              "      <td>0.000000</td>\n",
              "      <td>0.025867</td>\n",
              "    </tr>\n",
              "    <tr>\n",
              "      <th>75%</th>\n",
              "      <td>0.000202</td>\n",
              "      <td>0.232174</td>\n",
              "    </tr>\n",
              "    <tr>\n",
              "      <th>max</th>\n",
              "      <td>1.000000</td>\n",
              "      <td>1.000000</td>\n",
              "    </tr>\n",
              "  </tbody>\n",
              "</table>\n",
              "</div>"
            ],
            "text/plain": [
              "       ConfirmedCases     total_pop\n",
              "count    18816.000000  18816.000000\n",
              "mean         0.004613      0.172518\n",
              "std          0.048129      0.310446\n",
              "min          0.000000      0.000000\n",
              "25%          0.000000      0.006149\n",
              "50%          0.000000      0.025867\n",
              "75%          0.000202      0.232174\n",
              "max          1.000000      1.000000"
            ]
          },
          "metadata": {
            "tags": []
          },
          "execution_count": 36
        }
      ]
    },
    {
      "cell_type": "code",
      "metadata": {
        "id": "bNxreyLaqUNJ",
        "colab_type": "code",
        "colab": {}
      },
      "source": [
        "#Data assignment\n",
        "\n",
        "x_train = simplified_df.head(train_rows_count)\n",
        "x_test = simplified_df.tail(test_rows_count)\n"
      ],
      "execution_count": 37,
      "outputs": []
    },
    {
      "cell_type": "code",
      "metadata": {
        "id": "N7MBZu6fqWw0",
        "colab_type": "code",
        "colab": {}
      },
      "source": [
        "y_train = x_train['ConfirmedCases']\n",
        "y_test = x_test['ConfirmedCases']"
      ],
      "execution_count": 38,
      "outputs": []
    },
    {
      "cell_type": "code",
      "metadata": {
        "id": "c8d5a6tbqZ7x",
        "colab_type": "code",
        "colab": {
          "base_uri": "https://localhost:8080/",
          "height": 68
        },
        "outputId": "a44344c7-813d-4be8-d5b6-78cedf8d23a6"
      },
      "source": [
        "#Preparing train data\n",
        "\n",
        "import numpy as np\n",
        "from numpy import array\n",
        "\n",
        "x_days_train = list()\n",
        "y_days_train = list()\n",
        "length = lines_per_country\n",
        "country_count = train_country_count\n",
        "for i in range(0,length*country_count,length):\n",
        "    x_day_train = x_train[i:i+length-1]\n",
        "    x_days_train.append(x_day_train.values)\n",
        "    y_day_train = y_train[i+length-1:i+length]\n",
        "    y_days_train.append(y_day_train.values)\n",
        "\n",
        "\n",
        "x_train = array(x_days_train)\n",
        "print(x_train.shape)\n",
        "y_train = array(y_days_train)\n",
        "print(y_train.shape)\n",
        "\n",
        "x_train = x_train.reshape(train_country_count, 63, 2)\n",
        "print(x_train.shape)\n"
      ],
      "execution_count": 39,
      "outputs": [
        {
          "output_type": "stream",
          "text": [
            "(196, 63, 2)\n",
            "(196, 1)\n",
            "(196, 63, 2)\n"
          ],
          "name": "stdout"
        }
      ]
    },
    {
      "cell_type": "code",
      "metadata": {
        "id": "rH8jPWG2qifu",
        "colab_type": "code",
        "colab": {
          "base_uri": "https://localhost:8080/",
          "height": 68
        },
        "outputId": "ecb4b2b1-1c55-4f02-9252-1de165102f66"
      },
      "source": [
        "#Preparing test data\n",
        "\n",
        "x_days_test = list()\n",
        "y_days_test = list()\n",
        "length = lines_per_country\n",
        "country_count = test_country_count\n",
        "for i in range(0,length*country_count,length):\n",
        "    x_day_test = x_test[i:i+length-1]\n",
        "    x_days_test.append(x_day_test.values)\n",
        "    y_day_test = y_test[i+length-1:i+length]\n",
        "    y_days_test.append(y_day_test.values)\n",
        "\n",
        "\n",
        "x_test = array(x_days_test)\n",
        "print(x_test.shape)\n",
        "y_test = array(y_days_test)\n",
        "print(y_test.shape)\n",
        "\n",
        "x_test = x_test.reshape(test_country_count, 63, 2)\n",
        "print(x_test.shape)"
      ],
      "execution_count": 40,
      "outputs": [
        {
          "output_type": "stream",
          "text": [
            "(98, 63, 2)\n",
            "(98, 1)\n",
            "(98, 63, 2)\n"
          ],
          "name": "stdout"
        }
      ]
    },
    {
      "cell_type": "code",
      "metadata": {
        "id": "oV_JCsAlqln2",
        "colab_type": "code",
        "colab": {}
      },
      "source": [
        "#Creating and training  model\n",
        "\n",
        "from keras.models import Sequential\n",
        "from keras.layers import LSTM\n",
        "from keras.layers import Dense\n",
        "\n",
        "\n",
        "n_steps = 63\n",
        "n_features = 2\n",
        "n_batch = 4\n",
        "model = Sequential()\n",
        "model.add(LSTM(16, input_shape=(n_steps, n_features)))\n",
        "model.add(Dense(1))\n",
        "model.compile(optimizer='adam', loss='mse')\n",
        "\n",
        "history = model.fit(x_train, y_train, epochs=50, batch_size=n_batch, validation_data=(x_test, y_test),verbose=0, shuffle=False)\n"
      ],
      "execution_count": 41,
      "outputs": []
    },
    {
      "cell_type": "code",
      "metadata": {
        "id": "sLIdDKhJWhU3",
        "colab_type": "code",
        "colab": {
          "base_uri": "https://localhost:8080/",
          "height": 265
        },
        "outputId": "f1bee7bb-e758-47f7-c81d-5d88471e96b8"
      },
      "source": [
        "#Evaluating model\n",
        "\n",
        "import matplotlib.pyplot as plt\n",
        "\n",
        "plt.plot(history.history['loss'], label='train loss')\n",
        "plt.plot(history.history['val_loss'], label='test loss')\n",
        "plt.legend()\n",
        "plt.show()"
      ],
      "execution_count": 44,
      "outputs": [
        {
          "output_type": "display_data",
          "data": {
            "image/png": "[encoded data removed]",
            "text/plain": [
              "<Figure size 432x288 with 1 Axes>"
            ]
          },
          "metadata": {
            "tags": [],
            "needs_background": "light"
          }
        }
      ]
    },
    {
      "cell_type": "code",
      "metadata": {
        "id": "hFL-lDQVqziT",
        "colab_type": "code",
        "colab": {
          "base_uri": "https://localhost:8080/",
          "height": 320
        },
        "outputId": "ac86752e-0e3d-4c99-8aa7-95966d310102"
      },
      "source": [
        "#Comparing results\n",
        "\n",
        "import matplotlib.pyplot as plt\n",
        "\n",
        "predictions = model.predict(x_test)\n",
        "\n",
        "plt.figure(figsize = (10,5))\n",
        "plt.plot(range(len(predictions)),predictions, label=\"Predicted Cases\")\n",
        "plt.plot(range(len(y_test)),y_test, label=\"Real Cases\")\n",
        "plt.ylabel('Deads',fontsize=15)\n",
        "plt.legend(loc=\"upper left\")\n",
        "plt.show()"
      ],
      "execution_count": 48,
      "outputs": [
        {
          "output_type": "display_data",
          "data": {
            "image/png": "[encoded data removed]",
            "text/plain": [
              "<Figure size 720x360 with 1 Axes>"
            ]
          },
          "metadata": {
            "tags": [],
            "needs_background": "light"
          }
        }
      ]
    },
    {
      "cell_type": "code",
      "metadata": {
        "id": "oQ5DZHcKpJXv",
        "colab_type": "code",
        "colab": {}
      },
      "source": [
        "#Model save\n",
        "\n",
        "model.save(\"model.h5\")\n"
      ],
      "execution_count": 50,
      "outputs": []
    }
  ]
}