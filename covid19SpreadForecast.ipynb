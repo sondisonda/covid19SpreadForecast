{
  "nbformat": 4,
  "nbformat_minor": 0,
  "metadata": {
    "colab": {
      "name": "covid19SpreadForecast.ipynb",
      "provenance": [],
      "authorship_tag": "ABX9TyM4dAxHJIBlZaUqGlT+4pvz",
      "include_colab_link": true
    },
    "kernelspec": {
      "name": "python3",
      "display_name": "Python 3"
    }
  },
  "cells": [
    {
      "cell_type": "markdown",
      "metadata": {
        "id": "view-in-github",
        "colab_type": "text"
      },
      "source": [
        "<a href=\"https://colab.research.google.com/github/sondisonda/covid19SpreadForecast/blob/master/covid19SpreadForecast.ipynb\" target=\"_parent\"><img src=\"https://colab.research.google.com/assets/colab-badge.svg\" alt=\"Open In Colab\"/></a>"
      ]
    },
    {
      "cell_type": "markdown",
      "metadata": {
        "id": "IG2pj3P4qyqW",
        "colab_type": "text"
      },
      "source": [
        "Importing data from github\n"
      ]
    },
    {
      "cell_type": "code",
      "metadata": {
        "id": "b9lffF25mrsr",
        "colab_type": "code",
        "colab": {
          "base_uri": "https://localhost:8080/",
          "height": 34
        },
        "outputId": "d3d7e9d2-04e8-42f6-b28e-d853d25865d8"
      },
      "source": [
        "import pandas as pd\n",
        "path='https://raw.githubusercontent.com/sondisonda/covid19SpreadForecast/master/enriched_covid_19_week_2.csv'\n",
        "\n",
        "ds = pd.read_csv(path)\n",
        "ds.shape\n"
      ],
      "execution_count": 29,
      "outputs": [
        {
          "output_type": "execute_result",
          "data": {
            "text/plain": [
              "(18816, 38)"
            ]
          },
          "metadata": {
            "tags": []
          },
          "execution_count": 29
        }
      ]
    },
    {
      "cell_type": "markdown",
      "metadata": {
        "id": "tfuT-AEavPiJ",
        "colab_type": "text"
      },
      "source": [
        "Cleaning data"
      ]
    },
    {
      "cell_type": "code",
      "metadata": {
        "id": "aqDOx-AGvHHv",
        "colab_type": "code",
        "colab": {}
      },
      "source": [
        "\n",
        "ds.drop(['Id'], 1, inplace=True)\n",
        "ds.drop(['Province_State'], 1, inplace=True)\n",
        "ds.drop(['Date'], 1, inplace=True)\n",
        "\n"
      ],
      "execution_count": 30,
      "outputs": []
    }
  ]
}